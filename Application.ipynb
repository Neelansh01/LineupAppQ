{
 "cells": [
  {
   "cell_type": "markdown",
   "id": "1997f93f",
   "metadata": {},
   "source": [
    "## Install Python 3 Libraries"
   ]
  },
  {
   "cell_type": "markdown",
   "id": "b907af8a",
   "metadata": {},
   "source": [
    "#### flask: Web Server\n",
    "#### mysql: Pyhon-SQL connector\n",
    "#### werkzeug: General Utility\n",
    "#### pyodbc: To Convert Data to binary format"
   ]
  },
  {
   "cell_type": "markdown",
   "id": "9762a0f7",
   "metadata": {},
   "source": [
    "## To run/host the Flask server just run the next cell"
   ]
  },
  {
   "cell_type": "markdown",
   "id": "5956658f",
   "metadata": {},
   "source": [
    "#### **(Otherwise to run as an independent file, please copy the next cell and run the python file. This will start the server.)**"
   ]
  },
  {
   "cell_type": "markdown",
   "id": "4bbad060",
   "metadata": {},
   "source": [
    "##### Please see that the SQL DB connection and table name are as present in the code. Currently there are no logs and error-handling integrated, instead of which we have basic try-except with print statements. \n",
    "##### While running the server please take care to maintain the same file-structure as mentioned in GitHub.\n",
    "##### The name of the folder that contains backup files is static."
   ]
  },
  {
   "cell_type": "code",
   "execution_count": 40,
   "id": "ba5cdeb8",
   "metadata": {},
   "outputs": [
    {
     "name": "stdout",
     "output_type": "stream",
     "text": [
      " * Serving Flask app \"__main__\" (lazy loading)\n",
      " * Environment: production\n",
      "\u001b[31m   WARNING: This is a development server. Do not use it in a production deployment.\u001b[0m\n",
      "\u001b[2m   Use a production WSGI server instead.\u001b[0m\n",
      " * Debug mode: off\n"
     ]
    },
    {
     "name": "stderr",
     "output_type": "stream",
     "text": [
      " * Running on http://127.0.0.1:5000/ (Press CTRL+C to quit)\n",
      "127.0.0.1 - - [03/Feb/2023 12:09:52] \"GET / HTTP/1.1\" 200 -\n",
      "127.0.0.1 - - [03/Feb/2023 12:09:52] \"GET /favicon.ico HTTP/1.1\" 404 -\n",
      "127.0.0.1 - - [03/Feb/2023 12:09:57] \"POST /submit HTTP/1.1\" 200 -\n",
      "127.0.0.1 - - [03/Feb/2023 12:10:41] \"POST /submit HTTP/1.1\" 200 -\n",
      "127.0.0.1 - - [03/Feb/2023 12:11:59] \"POST /submit HTTP/1.1\" 200 -\n",
      "127.0.0.1 - - [03/Feb/2023 12:17:47] \"POST /submit HTTP/1.1\" 200 -\n"
     ]
    }
   ],
   "source": [
    "from flask import Flask\n",
    "import mysql.connector\n",
    "from flask import Flask, render_template, request, redirect, url_for\n",
    "import os\n",
    "from werkzeug.utils import secure_filename\n",
    "import pyodbc\n",
    "\n",
    "app = Flask(__name__)\n",
    "\n",
    "@app.route('/')\n",
    "def hello_world():\n",
    "    return render_template(\"./test.html\")\n",
    "\n",
    "@app.route('/submit', methods = ['POST'])\n",
    "def submit():\n",
    "    input = request.form\n",
    "    f = request.files['photo']\n",
    "    fpath = os.path.join('./', secure_filename(f.filename))\n",
    "    fname = secure_filename(f.filename)\n",
    "    f.save(fpath)\n",
    "    try:\n",
    "        insert = 'insert into docstable (name, document) values (%s,%s)'\n",
    "        mydb = mysql.connector.connect(\n",
    "          host=\"localhost\",\n",
    "          user=\"root\",\n",
    "          password=\"\",\n",
    "          database='mydatabase'\n",
    "        )\n",
    "        mycursor = mydb.cursor()\n",
    "        with open(fpath, 'rb') as f:\n",
    "            bindata = f.read()\n",
    "        binparams = (str(fname), str(pyodbc.Binary(bindata)))\n",
    "        #print(str(pyodbc.Binary(bindata)))\n",
    "        mycursor.execute(insert, binparams)\n",
    "        mydb.commit()\n",
    "        mydb.close()\n",
    "        return render_template(\"./test.html\")\n",
    "    except Exception as E:\n",
    "        print(\"Error while connecting to or inserting in the SQL Server..\")\n",
    "        print(E)\n",
    "        with ZipFile(\"static/\"+fname+\".zip\", 'w') as zObject:\n",
    "            zObject.write(fpath)\n",
    "        print(\"Backup Done\")\n",
    "        return render_template(\"new.html\")\n",
    "    \n",
    "if __name__ == '__main__':\n",
    "    app.run()"
   ]
  }
 ],
 "metadata": {
  "kernelspec": {
   "display_name": "Python 3 (ipykernel)",
   "language": "python",
   "name": "python3"
  },
  "language_info": {
   "codemirror_mode": {
    "name": "ipython",
    "version": 3
   },
   "file_extension": ".py",
   "mimetype": "text/x-python",
   "name": "python",
   "nbconvert_exporter": "python",
   "pygments_lexer": "ipython3",
   "version": "3.9.7"
  }
 },
 "nbformat": 4,
 "nbformat_minor": 5
}
